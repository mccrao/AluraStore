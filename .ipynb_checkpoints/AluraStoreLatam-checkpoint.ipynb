{
 "cells": [
  {
   "cell_type": "markdown",
   "metadata": {
    "id": "RhEdWd9YUR6H"
   },
   "source": [
    "### Importación de datos\n",
    "\n"
   ]
  },
  {
   "cell_type": "code",
   "execution_count": 2,
   "metadata": {
    "colab": {
     "base_uri": "https://localhost:8080/",
     "height": 206
    },
    "id": "T3EvaeQ_INIL",
    "outputId": "e9c5efe1-82a3-43ab-e8d7-6d01e4fa3514"
   },
   "outputs": [
    {
     "data": {
      "text/html": [
       "<div>\n",
       "<style scoped>\n",
       "    .dataframe tbody tr th:only-of-type {\n",
       "        vertical-align: middle;\n",
       "    }\n",
       "\n",
       "    .dataframe tbody tr th {\n",
       "        vertical-align: top;\n",
       "    }\n",
       "\n",
       "    .dataframe thead th {\n",
       "        text-align: right;\n",
       "    }\n",
       "</style>\n",
       "<table border=\"1\" class=\"dataframe\">\n",
       "  <thead>\n",
       "    <tr style=\"text-align: right;\">\n",
       "      <th></th>\n",
       "      <th>Producto</th>\n",
       "      <th>Categoría del Producto</th>\n",
       "      <th>Precio</th>\n",
       "      <th>Costo de envío</th>\n",
       "      <th>Fecha de Compra</th>\n",
       "      <th>Vendedor</th>\n",
       "      <th>Lugar de Compra</th>\n",
       "      <th>Calificación</th>\n",
       "      <th>Método de pago</th>\n",
       "      <th>Cantidad de cuotas</th>\n",
       "      <th>lat</th>\n",
       "      <th>lon</th>\n",
       "    </tr>\n",
       "  </thead>\n",
       "  <tbody>\n",
       "    <tr>\n",
       "      <th>0</th>\n",
       "      <td>Asistente virtual</td>\n",
       "      <td>Electrónicos</td>\n",
       "      <td>164300.0</td>\n",
       "      <td>6900.0</td>\n",
       "      <td>16/01/2021</td>\n",
       "      <td>Pedro Gomez</td>\n",
       "      <td>Bogotá</td>\n",
       "      <td>4</td>\n",
       "      <td>Tarjeta de crédito</td>\n",
       "      <td>8</td>\n",
       "      <td>4.60971</td>\n",
       "      <td>-74.08175</td>\n",
       "    </tr>\n",
       "    <tr>\n",
       "      <th>1</th>\n",
       "      <td>Mesa de comedor</td>\n",
       "      <td>Muebles</td>\n",
       "      <td>192300.0</td>\n",
       "      <td>8400.0</td>\n",
       "      <td>18/05/2022</td>\n",
       "      <td>Beatriz Morales</td>\n",
       "      <td>Medellín</td>\n",
       "      <td>1</td>\n",
       "      <td>Tarjeta de crédito</td>\n",
       "      <td>4</td>\n",
       "      <td>6.25184</td>\n",
       "      <td>-75.56359</td>\n",
       "    </tr>\n",
       "    <tr>\n",
       "      <th>2</th>\n",
       "      <td>Juego de mesa</td>\n",
       "      <td>Juguetes</td>\n",
       "      <td>209600.0</td>\n",
       "      <td>15900.0</td>\n",
       "      <td>15/03/2021</td>\n",
       "      <td>Juan Fernandez</td>\n",
       "      <td>Cartagena</td>\n",
       "      <td>1</td>\n",
       "      <td>Tarjeta de crédito</td>\n",
       "      <td>1</td>\n",
       "      <td>10.39972</td>\n",
       "      <td>-75.51444</td>\n",
       "    </tr>\n",
       "    <tr>\n",
       "      <th>3</th>\n",
       "      <td>Microondas</td>\n",
       "      <td>Electrodomésticos</td>\n",
       "      <td>757500.0</td>\n",
       "      <td>41000.0</td>\n",
       "      <td>03/05/2022</td>\n",
       "      <td>Juan Fernandez</td>\n",
       "      <td>Cali</td>\n",
       "      <td>4</td>\n",
       "      <td>Nequi</td>\n",
       "      <td>1</td>\n",
       "      <td>3.43722</td>\n",
       "      <td>-76.52250</td>\n",
       "    </tr>\n",
       "    <tr>\n",
       "      <th>4</th>\n",
       "      <td>Silla de oficina</td>\n",
       "      <td>Muebles</td>\n",
       "      <td>335200.0</td>\n",
       "      <td>20200.0</td>\n",
       "      <td>07/11/2020</td>\n",
       "      <td>Maria Alfonso</td>\n",
       "      <td>Medellín</td>\n",
       "      <td>5</td>\n",
       "      <td>Nequi</td>\n",
       "      <td>1</td>\n",
       "      <td>6.25184</td>\n",
       "      <td>-75.56359</td>\n",
       "    </tr>\n",
       "  </tbody>\n",
       "</table>\n",
       "</div>"
      ],
      "text/plain": [
       "            Producto Categoría del Producto    Precio  Costo de envío  \\\n",
       "0  Asistente virtual           Electrónicos  164300.0          6900.0   \n",
       "1    Mesa de comedor                Muebles  192300.0          8400.0   \n",
       "2      Juego de mesa               Juguetes  209600.0         15900.0   \n",
       "3         Microondas      Electrodomésticos  757500.0         41000.0   \n",
       "4   Silla de oficina                Muebles  335200.0         20200.0   \n",
       "\n",
       "  Fecha de Compra         Vendedor Lugar de Compra  Calificación  \\\n",
       "0      16/01/2021      Pedro Gomez          Bogotá             4   \n",
       "1      18/05/2022  Beatriz Morales        Medellín             1   \n",
       "2      15/03/2021   Juan Fernandez       Cartagena             1   \n",
       "3      03/05/2022   Juan Fernandez            Cali             4   \n",
       "4      07/11/2020    Maria Alfonso        Medellín             5   \n",
       "\n",
       "       Método de pago  Cantidad de cuotas       lat       lon  \n",
       "0  Tarjeta de crédito                   8   4.60971 -74.08175  \n",
       "1  Tarjeta de crédito                   4   6.25184 -75.56359  \n",
       "2  Tarjeta de crédito                   1  10.39972 -75.51444  \n",
       "3               Nequi                   1   3.43722 -76.52250  \n",
       "4               Nequi                   1   6.25184 -75.56359  "
      ]
     },
     "execution_count": 2,
     "metadata": {},
     "output_type": "execute_result"
    }
   ],
   "source": [
    "import pandas as pd\n",
    "\n",
    "url = \"https://raw.githubusercontent.com/alura-es-cursos/challenge1-data-science-latam/refs/heads/main/base-de-datos-challenge1-latam/tienda_1%20.csv\"\n",
    "url2 = \"https://raw.githubusercontent.com/alura-es-cursos/challenge1-data-science-latam/refs/heads/main/base-de-datos-challenge1-latam/tienda_2.csv\"\n",
    "url3 = \"https://raw.githubusercontent.com/alura-es-cursos/challenge1-data-science-latam/refs/heads/main/base-de-datos-challenge1-latam/tienda_3.csv\"\n",
    "url4 = \"https://raw.githubusercontent.com/alura-es-cursos/challenge1-data-science-latam/refs/heads/main/base-de-datos-challenge1-latam/tienda_4.csv\"\n",
    "\n",
    "tienda = pd.read_csv(url)\n",
    "tienda2 = pd.read_csv(url2)\n",
    "tienda3 = pd.read_csv(url3)\n",
    "tienda4 = pd.read_csv(url4)\n",
    "\n",
    "tienda.head()"
   ]
  },
  {
   "cell_type": "markdown",
   "metadata": {
    "id": "X62IW3KFUIYm"
   },
   "source": [
    "# 1. Análisis de facturación\n"
   ]
  },
  {
   "cell_type": "code",
   "execution_count": 3,
   "metadata": {
    "id": "xykobSftV64I"
   },
   "outputs": [
    {
     "name": "stdout",
     "output_type": "stream",
     "text": [
      "Facturación Tienda 1: $1150880400.00\n",
      "Facturación Tienda 2: $1116343500.00\n",
      "Facturación Tienda 3: $1098019600.00\n",
      "Facturación Tienda 4: $1038375700.00\n",
      "\n",
      "Facturación total de todas las tiendas: $4403619200.00\n"
     ]
    }
   ],
   "source": [
    "from urllib.request import urlopen\n",
    "import csv\n",
    "\n",
    "urls = [url, url2, url3, url4]\n",
    "\n",
    "# Función para leer un CSV desde URL\n",
    "def leer_csv(url):\n",
    "    datos = []\n",
    "    with urlopen(url) as respuesta:\n",
    "        lineas = respuesta.read().decode('utf-8').splitlines()\n",
    "        lector = csv.DictReader(lineas)\n",
    "        for fila in lector:\n",
    "            datos.append(fila)\n",
    "    return datos\n",
    "\n",
    "# Análisis de facturación\n",
    "total_facturacion = 0\n",
    "\n",
    "for i, url in enumerate(urls):\n",
    "    datos_tienda = leer_csv(url)\n",
    "    facturacion_tienda = 0\n",
    "\n",
    "    for venta in datos_tienda:\n",
    "        precio = float(venta['Precio'])  # Solo sumamos el precio\n",
    "        facturacion_tienda += precio\n",
    "\n",
    "    print(f\"Facturación Tienda {i+1}: ${facturacion_tienda:.2f}\")\n",
    "    total_facturacion += facturacion_tienda\n",
    "\n",
    "# Mostrar facturación total\n",
    "print(f\"\\nFacturación total de todas las tiendas: ${total_facturacion:.2f}\")\n"
   ]
  },
  {
   "cell_type": "code",
   "execution_count": 4,
   "metadata": {
    "id": "KDyr8E71V3m-"
   },
   "outputs": [
    {
     "name": "stdout",
     "output_type": "stream",
     "text": [
      "Facturación Tienda 1: $1150880400.00\n",
      "Facturación Tienda 2: $1116343500.00\n",
      "Facturación Tienda 3: $1098019600.00\n",
      "Facturación Tienda 4: $1038375700.00\n",
      "\n",
      "Facturación total de todas las tiendas: $4403619200.00\n"
     ]
    }
   ],
   "source": [
    "# Sumando solo el precio de las ventas, sin considerar las cuotas\n",
    "facturacion_tienda1 = tienda['Precio'].astype(float).sum()\n",
    "facturacion_tienda2 = tienda2['Precio'].astype(float).sum()\n",
    "facturacion_tienda3 = tienda3['Precio'].astype(float).sum()\n",
    "facturacion_tienda4 = tienda4['Precio'].astype(float).sum()\n",
    "\n",
    "# Mostrar los resultados\n",
    "print(f\"Facturación Tienda 1: ${facturacion_tienda1:.2f}\")\n",
    "print(f\"Facturación Tienda 2: ${facturacion_tienda2:.2f}\")\n",
    "print(f\"Facturación Tienda 3: ${facturacion_tienda3:.2f}\")\n",
    "print(f\"Facturación Tienda 4: ${facturacion_tienda4:.2f}\")\n",
    "\n",
    "# Facturación total de todas las tiendas\n",
    "facturacion_total = facturacion_tienda1 + facturacion_tienda2 + facturacion_tienda3 + facturacion_tienda4\n",
    "print(f\"\\nFacturación total de todas las tiendas: ${facturacion_total:.2f}\")"
   ]
  },
  {
   "cell_type": "markdown",
   "metadata": {
    "id": "2V_vcAPzWZmR"
   },
   "source": [
    "# 2. Ventas por categoría"
   ]
  },
  {
   "cell_type": "code",
   "execution_count": 5,
   "metadata": {
    "id": "A34YupIuYhfF"
   },
   "outputs": [
    {
     "name": "stdout",
     "output_type": "stream",
     "text": [
      "\n",
      "Ventas por categoría en Tienda 1:\n",
      "  Electrónicos: $1290390700.00\n",
      "  Muebles: $582928200.00\n",
      "  Juguetes: $49062800.00\n",
      "  Electrodomésticos: $1032375600.00\n",
      "  Artículos para el hogar: $38316800.00\n",
      "  Deportes y diversión: $126883700.00\n",
      "  Libros: $25769400.00\n",
      "  Instrumentos musicales: $276990500.00\n",
      "\n",
      "Ventas por categoría en Tienda 2:\n",
      "  Muebles: $527332100.00\n",
      "  Instrumentos musicales: $294448700.00\n",
      "  Deportes y diversión: $81660600.00\n",
      "  Electrónicos: $1286643600.00\n",
      "  Artículos para el hogar: $42739700.00\n",
      "  Juguetes: $46721200.00\n",
      "  Electrodomésticos: $1026226300.00\n",
      "  Libros: $31417000.00\n",
      "\n",
      "Ventas por categoría en Tienda 3:\n",
      "  Electrodomésticos: $1081380800.00\n",
      "  Muebles: $555092500.00\n",
      "  Instrumentos musicales: $250336000.00\n",
      "  Deportes y diversión: $123399200.00\n",
      "  Electrónicos: $1101334500.00\n",
      "  Juguetes: $61190400.00\n",
      "  Artículos para el hogar: $44724600.00\n",
      "  Libros: $26358900.00\n",
      "\n",
      "Ventas por categoría en Tienda 4:\n",
      "  Electrodomésticos: $879089600.00\n",
      "  Muebles: $556628000.00\n",
      "  Deportes y diversión: $100062000.00\n",
      "  Libros: $29543400.00\n",
      "  Electrónicos: $1211446500.00\n",
      "  Instrumentos musicales: $222837200.00\n",
      "  Juguetes: $54641200.00\n",
      "  Artículos para el hogar: $44579300.00\n",
      "\n",
      "Ventas totales por categoría (todas las tiendas):\n",
      "  Electrónicos: $4889815300.00\n",
      "  Muebles: $2221980800.00\n",
      "  Juguetes: $211615600.00\n",
      "  Electrodomésticos: $4019072300.00\n",
      "  Artículos para el hogar: $170360400.00\n",
      "  Deportes y diversión: $432005500.00\n",
      "  Libros: $113088700.00\n",
      "  Instrumentos musicales: $1044612400.00\n",
      "\n",
      "Total general de ventas: $13102551000.00\n"
     ]
    }
   ],
   "source": [
    "def leer_csv(url):\n",
    "    datos = []\n",
    "    with urlopen(url) as respuesta:\n",
    "        # Decodificar los datos\n",
    "        lineas = respuesta.read().decode('utf-8').splitlines()\n",
    "        reader = csv.DictReader(lineas)\n",
    "        for fila in reader:\n",
    "            datos.append(fila)\n",
    "    return datos\n",
    "\n",
    "# Diccionario para almacenar las ventas por categoría\n",
    "ventas_por_categoria = {}\n",
    "\n",
    "# Procesar todas las tiendas\n",
    "for i, url in enumerate(urls):\n",
    "    datos_tienda = leer_csv(url)\n",
    "    print(f\"\\nVentas por categoría en Tienda {i+1}:\")\n",
    "\n",
    "    # Diccionario para la tienda actual\n",
    "    categorias_tienda = {}\n",
    "\n",
    "    for venta in datos_tienda:\n",
    "        categoria = venta['Categoría del Producto']\n",
    "        precio = float(venta['Precio'])\n",
    "        cantidad = int(venta['Cantidad de cuotas'])\n",
    "        monto_venta = precio * cantidad\n",
    "\n",
    "        # Agregar al diccionario de la tienda actual\n",
    "        if categoria in categorias_tienda:\n",
    "            categorias_tienda[categoria] += monto_venta\n",
    "        else:\n",
    "            categorias_tienda[categoria] = monto_venta\n",
    "\n",
    "        # Agregar al diccionario general\n",
    "        if categoria in ventas_por_categoria:\n",
    "            ventas_por_categoria[categoria] += monto_venta\n",
    "        else:\n",
    "            ventas_por_categoria[categoria] = monto_venta\n",
    "\n",
    "    # Mostrar resultados para esta tienda\n",
    "    for categoria, monto in categorias_tienda.items():\n",
    "        print(f\"  {categoria}: ${monto:.2f}\")\n",
    "\n",
    "# Mostrar resultados totales\n",
    "print(\"\\nVentas totales por categoría (todas las tiendas):\")\n",
    "for categoria, monto in ventas_por_categoria.items():\n",
    "    print(f\"  {categoria}: ${monto:.2f}\")\n",
    "\n",
    "# Calcular el total general\n",
    "total_general = sum(ventas_por_categoria.values())\n",
    "print(f\"\\nTotal general de ventas: ${total_general:.2f}\")"
   ]
  },
  {
   "cell_type": "code",
   "execution_count": 6,
   "metadata": {
    "id": "yZR6cOjXYSk1"
   },
   "outputs": [
    {
     "name": "stdout",
     "output_type": "stream",
     "text": [
      "\n",
      "Ventas por categoría en Tienda 1:\n",
      "Categoría del Producto\n",
      "Artículos para el hogar     12698400.0\n",
      "Deportes y diversión        39290000.0\n",
      "Electrodomésticos          363685200.0\n",
      "Electrónicos               429493500.0\n",
      "Instrumentos musicales      91299000.0\n",
      "Juguetes                    17995700.0\n",
      "Libros                       8784900.0\n",
      "Muebles                    187633700.0\n",
      "Name: Precio, dtype: float64\n",
      "\n",
      "Ventas por categoría en Tienda 2:\n",
      "Categoría del Producto\n",
      "Artículos para el hogar     14746900.0\n",
      "Deportes y diversión        34744500.0\n",
      "Electrodomésticos          348567800.0\n",
      "Electrónicos               410831100.0\n",
      "Instrumentos musicales     104990300.0\n",
      "Juguetes                    15945400.0\n",
      "Libros                      10091200.0\n",
      "Muebles                    176426300.0\n",
      "Name: Precio, dtype: float64\n",
      "\n",
      "Ventas por categoría en Tienda 3:\n",
      "Categoría del Producto\n",
      "Artículos para el hogar     15060000.0\n",
      "Deportes y diversión        35593100.0\n",
      "Electrodomésticos          329237900.0\n",
      "Electrónicos               410775800.0\n",
      "Instrumentos musicales      77380900.0\n",
      "Juguetes                    19401100.0\n",
      "Libros                       9498700.0\n",
      "Muebles                    201072100.0\n",
      "Name: Precio, dtype: float64\n",
      "\n",
      "Ventas por categoría en Tienda 4:\n",
      "Categoría del Producto\n",
      "Artículos para el hogar     15074500.0\n",
      "Deportes y diversión        33350100.0\n",
      "Electrodomésticos          283260200.0\n",
      "Electrónicos               409476100.0\n",
      "Instrumentos musicales      75102400.0\n",
      "Juguetes                    20262200.0\n",
      "Libros                       9321300.0\n",
      "Muebles                    192528900.0\n",
      "Name: Precio, dtype: float64\n"
     ]
    }
   ],
   "source": [
    "# Función para calcular y mostrar las ventas por categoría de una tienda\n",
    "def ventas_por_categoria(tienda, numero):\n",
    "    ventas = tienda.groupby('Categoría del Producto')['Precio'].sum()\n",
    "    print(f\"\\nVentas por categoría en Tienda {numero}:\")\n",
    "    print(ventas)\n",
    "\n",
    "# Mostrar resultados para cada tienda\n",
    "ventas_por_categoria(tienda, 1)\n",
    "ventas_por_categoria(tienda2, 2)\n",
    "ventas_por_categoria(tienda3, 3)\n",
    "ventas_por_categoria(tienda4, 4)"
   ]
  },
  {
   "cell_type": "markdown",
   "metadata": {
    "id": "Rq6tU_xSY3jk"
   },
   "source": [
    "# 3. Calificación promedio de la tienda\n"
   ]
  },
  {
   "cell_type": "code",
   "execution_count": 7,
   "metadata": {
    "id": "bh3jjjJwY5MU"
   },
   "outputs": [
    {
     "name": "stdout",
     "output_type": "stream",
     "text": [
      "Calificación promedio de la Tienda 1: 3.98\n",
      "Calificación promedio de la Tienda 2: 4.04\n",
      "Calificación promedio de la Tienda 3: 4.05\n",
      "Calificación promedio de la Tienda 4: 4.00\n"
     ]
    }
   ],
   "source": [
    "def leer_csv(url):\n",
    "    datos = []\n",
    "    with urlopen(url) as respuesta:\n",
    "        # Decodificar los datos\n",
    "        lineas = respuesta.read().decode('utf-8').splitlines()\n",
    "        reader = csv.DictReader(lineas)\n",
    "        for fila in reader:\n",
    "            datos.append(fila)\n",
    "    return datos\n",
    "\n",
    "# Calcular la calificación promedio para cada tienda\n",
    "for i, url in enumerate(urls):\n",
    "    datos_tienda = leer_csv(url)\n",
    "\n",
    "    # Variables para calcular el promedio\n",
    "    suma_calificaciones = 0\n",
    "    cantidad_productos = 0\n",
    "\n",
    "    for producto in datos_tienda:\n",
    "        try:\n",
    "            # Intentamos con diferentes posibles nombres de columna\n",
    "            if 'Calificación' in producto:\n",
    "                calificacion = float(producto['Calificación'])\n",
    "            elif 'Calificacion' in producto:\n",
    "                calificacion = float(producto['Calificacion'])\n",
    "            elif 'calificación' in producto:\n",
    "                calificacion = float(producto['calificación'])\n",
    "            elif 'calificacion' in producto:\n",
    "                calificacion = float(producto['calificacion'])\n",
    "            else:\n",
    "                # Si no encontramos la columna, imprimimos las claves disponibles\n",
    "                print(f\"Claves disponibles en la tienda {i+1}:\", producto.keys())\n",
    "                raise KeyError(\"No se encontró la columna de calificación\")\n",
    "\n",
    "            suma_calificaciones += calificacion\n",
    "            cantidad_productos += 1\n",
    "        except (ValueError, KeyError) as e:\n",
    "            if isinstance(e, KeyError):\n",
    "                raise\n",
    "            # Ignoramos valores que no se pueden convertir a float\n",
    "            continue\n",
    "\n",
    "    if cantidad_productos > 0:\n",
    "        calificacion_promedio = suma_calificaciones / cantidad_productos\n",
    "        print(f\"Calificación promedio de la Tienda {i+1}: {calificacion_promedio:.2f}\")\n",
    "    else:\n",
    "        print(f\"No se pudieron procesar calificaciones para la Tienda {i+1}\")"
   ]
  },
  {
   "cell_type": "code",
   "execution_count": 8,
   "metadata": {
    "id": "I0KkjPoTY88F"
   },
   "outputs": [
    {
     "name": "stdout",
     "output_type": "stream",
     "text": [
      "Clasificación promedio en Tienda 1: 3.98\n",
      "Clasificación promedio en Tienda 2: 4.04\n",
      "Clasificación promedio en Tienda 3: 4.05\n",
      "Clasificación promedio en Tienda 4: 4.00\n"
     ]
    }
   ],
   "source": [
    "def clasificacion_promedio(tienda, numero):\n",
    "    promedio = tienda['Calificación'].mean()\n",
    "    print(f\"Clasificación promedio en Tienda {numero}: {promedio:.2f}\")\n",
    "\n",
    "# Mostrar resultados para cada tienda\n",
    "clasificacion_promedio(tienda, 1)\n",
    "clasificacion_promedio(tienda2, 2)\n",
    "clasificacion_promedio(tienda3, 3)\n",
    "clasificacion_promedio(tienda4, 4)"
   ]
  },
  {
   "cell_type": "markdown",
   "metadata": {
    "id": "DmNp1KPBZCm-"
   },
   "source": [
    "# 4. Productos más y menos vendidos"
   ]
  },
  {
   "cell_type": "code",
   "execution_count": 12,
   "metadata": {
    "id": "qoyjqijQZHfF"
   },
   "outputs": [
    {
     "name": "stdout",
     "output_type": "stream",
     "text": [
      "\n",
      "Tienda 1 - TOP 3 productos que MÁS dinero generaron:\n",
      "  TV LED UHD 4K - Ingresos: $142150200.00\n",
      "  Refrigerador - Ingresos: $112143300.00\n",
      "  Iphone 15 - Ingresos: $97902200.00\n",
      "\n",
      "Tienda 1 - TOP 3 productos que MENOS dinero generaron:\n",
      "  Cubo mágico 8x8 - Ingresos: $696900.00\n",
      "  Dinosaurio Rex - Ingresos: $688900.00\n",
      "  Cuerda para saltar - Ingresos: $652800.00\n",
      "\n",
      "Tienda 2 - TOP 3 productos que MÁS dinero generaron:\n",
      "  Iphone 15 - Ingresos: $113225800.00\n",
      "  TV LED UHD 4K - Ingresos: $103375000.00\n",
      "  Refrigerador - Ingresos: $97632500.00\n",
      "\n",
      "Tienda 2 - TOP 3 productos que MENOS dinero generaron:\n",
      "  Cuerda para saltar - Ingresos: $856900.00\n",
      "  Dinosaurio Rex - Ingresos: $770300.00\n",
      "  Cubo mágico 8x8 - Ingresos: $643600.00\n",
      "\n",
      "Tienda 3 - TOP 3 productos que MÁS dinero generaron:\n",
      "  Refrigerador - Ingresos: $99889700.00\n",
      "  TV LED UHD 4K - Ingresos: $96669100.00\n",
      "  Iphone 15 - Ingresos: $93225700.00\n",
      "\n",
      "Tienda 3 - TOP 3 productos que MENOS dinero generaron:\n",
      "  Cuerda para saltar - Ingresos: $853800.00\n",
      "  Dinosaurio Rex - Ingresos: $795600.00\n",
      "  Cubo mágico 8x8 - Ingresos: $640400.00\n",
      "\n",
      "Tienda 4 - TOP 3 productos que MÁS dinero generaron:\n",
      "  Iphone 15 - Ingresos: $96697500.00\n",
      "  TV LED UHD 4K - Ingresos: $90295300.00\n",
      "  Smart TV - Ingresos: $82790400.00\n",
      "\n",
      "Tienda 4 - TOP 3 productos que MENOS dinero generaron:\n",
      "  Dinosaurio Rex - Ingresos: $858100.00\n",
      "  Cubo mágico 8x8 - Ingresos: $748400.00\n",
      "  Cuerda para saltar - Ingresos: $704800.00\n"
     ]
    }
   ],
   "source": [
    "from collections import defaultdict\n",
    "def leer_csv(url):\n",
    "    datos = []\n",
    "    with urlopen(url) as respuesta:\n",
    "        lineas = respuesta.read().decode('utf-8').splitlines()\n",
    "        lector = csv.DictReader(lineas)\n",
    "        for fila in lector:\n",
    "            datos.append(fila)\n",
    "    return datos\n",
    "\n",
    "# Función para calcular Top 3 más y menos dinero generado\n",
    "def top_productos(datos_tienda, tienda_numero):\n",
    "    ingreso_por_producto = defaultdict(float)\n",
    "\n",
    "    for venta in datos_tienda:\n",
    "        producto = venta['Producto']\n",
    "        precio = float(venta['Precio'])\n",
    "        # Ahora solo usamos el precio (no multiplicamos por cantidad de cuotas)\n",
    "        ingreso_por_producto[producto] += precio\n",
    "\n",
    "    # Convertimos a lista ordenada\n",
    "    productos_ordenados = sorted(ingreso_por_producto.items(), key=lambda x: x[1], reverse=True)\n",
    "\n",
    "    top_mas_vendidos = productos_ordenados[:3]\n",
    "    top_menos_vendidos = productos_ordenados[-3:]\n",
    "\n",
    "    print(f\"\\nTienda {tienda_numero} - TOP 3 productos que MÁS dinero generaron:\")\n",
    "    for producto, ingreso in top_mas_vendidos:\n",
    "        print(f\"  {producto} - Ingresos: ${ingreso:.2f}\")\n",
    "\n",
    "    print(f\"\\nTienda {tienda_numero} - TOP 3 productos que MENOS dinero generaron:\")\n",
    "    for producto, ingreso in top_menos_vendidos:\n",
    "        print(f\"  {producto} - Ingresos: ${ingreso:.2f}\")\n",
    "\n",
    "# Recorrer todas las tiendas\n",
    "for i, url in enumerate(urls, start=1):\n",
    "    datos_tienda = leer_csv(url)\n",
    "    top_productos(datos_tienda, i)"
   ]
  },
  {
   "cell_type": "code",
   "execution_count": 13,
   "metadata": {
    "id": "0Sw3sd4IZIGW"
   },
   "outputs": [
    {
     "name": "stdout",
     "output_type": "stream",
     "text": [
      "\n",
      "Tienda 1 - TOP 3 productos que MÁS dinero generaron:\n",
      "  TV LED UHD 4K - Ingresos: $142150200.00\n",
      "  Refrigerador - Ingresos: $112143300.00\n",
      "  Iphone 15 - Ingresos: $97902200.00\n",
      "\n",
      "Tienda 1 - TOP 3 productos que MENOS dinero generaron:\n",
      "  Cuerda para saltar - Ingresos: $652800.00\n",
      "  Dinosaurio Rex - Ingresos: $688900.00\n",
      "  Cubo mágico 8x8 - Ingresos: $696900.00\n",
      "\n",
      "Tienda 2 - TOP 3 productos que MÁS dinero generaron:\n",
      "  Iphone 15 - Ingresos: $113225800.00\n",
      "  TV LED UHD 4K - Ingresos: $103375000.00\n",
      "  Refrigerador - Ingresos: $97632500.00\n",
      "\n",
      "Tienda 2 - TOP 3 productos que MENOS dinero generaron:\n",
      "  Cubo mágico 8x8 - Ingresos: $643600.00\n",
      "  Dinosaurio Rex - Ingresos: $770300.00\n",
      "  Cuerda para saltar - Ingresos: $856900.00\n",
      "\n",
      "Tienda 3 - TOP 3 productos que MÁS dinero generaron:\n",
      "  Refrigerador - Ingresos: $99889700.00\n",
      "  TV LED UHD 4K - Ingresos: $96669100.00\n",
      "  Iphone 15 - Ingresos: $93225700.00\n",
      "\n",
      "Tienda 3 - TOP 3 productos que MENOS dinero generaron:\n",
      "  Cubo mágico 8x8 - Ingresos: $640400.00\n",
      "  Dinosaurio Rex - Ingresos: $795600.00\n",
      "  Cuerda para saltar - Ingresos: $853800.00\n",
      "\n",
      "Tienda 4 - TOP 3 productos que MÁS dinero generaron:\n",
      "  Iphone 15 - Ingresos: $96697500.00\n",
      "  TV LED UHD 4K - Ingresos: $90295300.00\n",
      "  Smart TV - Ingresos: $82790400.00\n",
      "\n",
      "Tienda 4 - TOP 3 productos que MENOS dinero generaron:\n",
      "  Cuerda para saltar - Ingresos: $704800.00\n",
      "  Cubo mágico 8x8 - Ingresos: $748400.00\n",
      "  Dinosaurio Rex - Ingresos: $858100.00\n"
     ]
    }
   ],
   "source": [
    "# Leer todos los CSVs y agregar una columna 'Tienda'\n",
    "df_total = pd.concat(\n",
    "    [pd.read_csv(url).assign(Tienda=f\"Tienda {i+1}\") for i, url in enumerate(urls)],\n",
    "    ignore_index=True\n",
    ")\n",
    "\n",
    "# Aseguramos los tipos correctos\n",
    "df_total['Precio'] = df_total['Precio'].astype(float)\n",
    "df_total['Cantidad de cuotas'] = df_total['Cantidad de cuotas'].astype(int)\n",
    "\n",
    "# El ingreso es simplemente el Precio (no multiplicamos por cantidad de cuotas)\n",
    "df_total['Ingreso'] = df_total['Precio']\n",
    "\n",
    "# Agrupamos por Tienda y Producto sumando el ingreso\n",
    "ventas = df_total.groupby(['Tienda', 'Producto'])['Ingreso'].sum().reset_index()\n",
    "\n",
    "# Función para mostrar los 3 productos que más y menos dinero generaron\n",
    "def top_productos(tienda):\n",
    "    data = ventas[ventas['Tienda'] == tienda]\n",
    "\n",
    "    top_mas_vendidos = data.sort_values(by='Ingreso', ascending=False).head(3)\n",
    "    top_menos_vendidos = data.sort_values(by='Ingreso', ascending=True).head(3)\n",
    "\n",
    "    print(f\"\\n{tienda} - TOP 3 productos que MÁS dinero generaron:\")\n",
    "    for _, fila in top_mas_vendidos.iterrows():\n",
    "        print(f\"  {fila['Producto']} - Ingresos: ${fila['Ingreso']:.2f}\")\n",
    "\n",
    "    print(f\"\\n{tienda} - TOP 3 productos que MENOS dinero generaron:\")\n",
    "    for _, fila in top_menos_vendidos.iterrows():\n",
    "        print(f\"  {fila['Producto']} - Ingresos: ${fila['Ingreso']:.2f}\")\n",
    "\n",
    "# Lista única de tiendas\n",
    "tiendas_unicas = ventas['Tienda'].unique()\n",
    "\n",
    "# Mostrar resultados para cada tienda\n",
    "for tienda in tiendas_unicas:\n",
    "    top_productos(tienda)"
   ]
  },
  {
   "cell_type": "markdown",
   "metadata": {
    "id": "Fl0cGi3bZKqU"
   },
   "source": [
    "# 5. Envío promedio por tienda"
   ]
  },
  {
   "cell_type": "code",
   "execution_count": 14,
   "metadata": {
    "id": "S2JeaCykZNy9"
   },
   "outputs": [
    {
     "name": "stdout",
     "output_type": "stream",
     "text": [
      "Tienda 1 - Envío promedio: $26018.61\n",
      "Tienda 2 - Envío promedio: $25216.24\n",
      "Tienda 3 - Envío promedio: $24805.68\n",
      "Tienda 4 - Envío promedio: $23459.46\n"
     ]
    }
   ],
   "source": [
    "def calcular_envio_promedio(datos_tienda, tienda_numero):\n",
    "    costos_envio = []\n",
    "\n",
    "    for venta in datos_tienda:\n",
    "        costo_envio = float(venta['Costo de envío'])\n",
    "        costos_envio.append(costo_envio)\n",
    "\n",
    "    promedio_envio = sum(costos_envio) / len(costos_envio) if costos_envio else 0\n",
    "\n",
    "    print(f\"Tienda {tienda_numero} - Envío promedio: ${promedio_envio:.2f}\")\n",
    "\n",
    "# Procesar todas las tiendas\n",
    "for i, url in enumerate(urls, start=1):\n",
    "    datos_tienda = leer_csv(url)\n",
    "    calcular_envio_promedio(datos_tienda, i)"
   ]
  },
  {
   "cell_type": "code",
   "execution_count": 15,
   "metadata": {
    "id": "0tSdCie9ZQlt"
   },
   "outputs": [
    {
     "name": "stdout",
     "output_type": "stream",
     "text": [
      "\n",
      "Envío promedio por tienda:\n",
      "Tienda 1: $26018.61\n",
      "Tienda 2: $25216.24\n",
      "Tienda 3: $24805.68\n",
      "Tienda 4: $23459.46\n"
     ]
    }
   ],
   "source": [
    "# Asegurar que el costo de envío es numérico\n",
    "df_total['Costo de envío'] = df_total['Costo de envío'].astype(float)\n",
    "\n",
    "# Agrupar por tienda y calcular el promedio del costo de envío\n",
    "envio_promedio = df_total.groupby('Tienda')['Costo de envío'].mean()\n",
    "\n",
    "# Mostrar resultados\n",
    "print(\"\\nEnvío promedio por tienda:\")\n",
    "for tienda, promedio in envio_promedio.items():\n",
    "    print(f\"{tienda}: ${promedio:.2f}\")"
   ]
  },
  {
   "cell_type": "code",
   "execution_count": 16,
   "metadata": {},
   "outputs": [
    {
     "data": {
      "image/png": "[encoded data removed]",
      "text/plain": [
       "<Figure size 800x500 with 1 Axes>"
      ]
     },
     "metadata": {},
     "output_type": "display_data"
    },
    {
     "data": {
      "image/png": "[encoded data removed]",
      "text/plain": [
       "<Figure size 800x500 with 1 Axes>"
      ]
     },
     "metadata": {},
     "output_type": "display_data"
    },
    {
     "data": {
      "image/png": "[encoded data removed]",
      "text/plain": [
       "<Figure size 700x700 with 1 Axes>"
      ]
     },
     "metadata": {},
     "output_type": "display_data"
    }
   ],
   "source": [
    "import matplotlib.pyplot as plt\n",
    "\n",
    "df_total['Precio'] = df_total['Precio'].astype(float)\n",
    "\n",
    "# Asegurar tipo correcto\n",
    "df_total['Precio'] = df_total['Precio'].astype(float)\n",
    "\n",
    "# El ingreso de cada venta es simplemente el precio\n",
    "df_total['Ingreso'] = df_total['Precio']\n",
    "\n",
    "# Agrupar datos\n",
    "ingresos_totales = df_total.groupby('Tienda')['Ingreso'].sum()\n",
    "ingreso_promedio = df_total.groupby('Tienda')['Ingreso'].mean()\n",
    "distribucion_ingresos = ingresos_totales\n",
    "\n",
    "# 🎨 Graficar 3 gráficos verdaderamente diferentes\n",
    "\n",
    "# 1. Barra vertical: Total de ingresos\n",
    "plt.figure(figsize=(8,5))\n",
    "ingresos_totales.plot(kind='bar')\n",
    "plt.title('Ingresos Totales por Tienda')\n",
    "plt.ylabel('Total Ingresos (USD)')\n",
    "plt.xlabel('Tienda')\n",
    "plt.grid(axis='y')\n",
    "plt.tight_layout()\n",
    "plt.show()\n",
    "\n",
    "# 2. Línea: Promedio de ingreso por venta\n",
    "plt.figure(figsize=(8,5))\n",
    "ingreso_promedio.plot(kind='line', marker='o', linestyle='--', color='orange')\n",
    "plt.title('Ingreso Promedio por Venta por Tienda')\n",
    "plt.ylabel('Ingreso Promedio (USD)')\n",
    "plt.xlabel('Tienda')\n",
    "plt.grid(True)\n",
    "plt.tight_layout()\n",
    "plt.show()\n",
    "\n",
    "# 3. Torta/Pie: Distribución del total\n",
    "plt.figure(figsize=(7,7))\n",
    "distribucion_ingresos.plot(kind='pie', autopct='%1.1f%%', startangle=90)\n",
    "plt.title('Participación de Cada Tienda en el Total de Ingresos')\n",
    "plt.ylabel('')\n",
    "plt.tight_layout()\n",
    "plt.show()"
   ]
  },
  {
   "cell_type": "markdown",
   "metadata": {},
   "source": [
    "# Conclusiones Generales del Análisis de Ventas y Operación\n",
    "\n",
    "En términos de la tienda con menor rendimiento, la recomendacion es que el Sr. Juan venda la Tienda 4, ya que registra la facturación más baja con $1.038.375.700\n",
    "\n",
    "\n",
    "## 1. Facturación total de cada tienda\n",
    "\n",
    "La facturación total consolidada de las cuatro tiendas alcanzó los 4.403.619.200, si siendo la Tienda 1 la que lidera en ingresos con 1.150.880.400, seguida por la Tienda 2 con 1.116.343.500, la Tienda 3 con 1.098.019.600 y finalmente la Tienda 4 con 1.038.375.700\n",
    "\n",
    "* Conclusión: La Tienda 1 es la más fuerte en ventas y representa la mayor participación en la facturación global.\n",
    "\n",
    "\n",
    "## 2. Categorías más populares\n",
    "\n",
    "En términos de categorías, los Electrónicos son los productos más demandados con ventas totales superiores a 4.889.815.300, seguidos de los Electrodomésticos con 4.019.072.300 y los Muebles con 2.221.980.800\n",
    "\n",
    "* Conclusión: Los clientes priorizan productos de alta tecnología y electrodomésticos, mientras que las categorías de menor rotación son Libros y Artículos para el hogar.\n",
    "\n",
    "\n",
    "## 3. Promedio de calificación de los clientes\n",
    "\n",
    "El nivel de satisfacción de los clientes se mantiene en un rango positivo, con calificaciones promedio entre 3.98 y 4.05 en una escala de 1 a 5. La Tienda 3 alcanzó el puntaje más alto con 4.05, mientras que la Tienda 1 se ubicó en el extremo inferior con 3.98\n",
    "\n",
    "* Conclusión: Existe un nivel estable de satisfacción, pero se recomienda que la Tienda 1 implemente mejoras en la experiencia del cliente para equipararse con las demás.\n",
    "\n",
    "\n",
    "## 4. Productos más y menos vendidos\n",
    "\n",
    "El ranking de ingresos revela que los productos estrella en todas las tiendas son el TV LED UHD 4K, el Iphone 15 y el Refrigerador, superando en todos los casos los 90 millones cada uno\n",
    "\n",
    "En contraste, los productos con menores ventas fueron consistentemente de la categoría de juguetes y entretenimiento: Cubo mágico 8x8, Dinosaurio Rex y Cuerda para saltar, con ingresos por debajo de 900.000\n",
    "\n",
    "* Conclusión: Los clientes concentran sus compras en tecnología y electrodomésticos, mientras que los productos recreativos tienen una baja participación en los ingresos.\n",
    "\n",
    "\n",
    "## 5. Costo promedio del envío\n",
    "\n",
    "El costo promedio del envío varió ligeramente entre tiendas, oscilando entre 23.459,46 y 26.018,61. La Tienda 1 registra el envío más alto, mientras que la Tienda 4 logra el promedio más bajo\n",
    "\n",
    "* Conclusión: Aunque las diferencias son mínimas, la Tienda 4 resulta más competitiva en costos logísticos, lo que puede representar una ventaja frente a las demás.\n"
   ]
  }
 ],
 "metadata": {
  "colab": {
   "provenance": []
  },
  "kernelspec": {
   "display_name": "Python 3 (ipykernel)",
   "language": "python",
   "name": "python3"
  },
  "language_info": {
   "codemirror_mode": {
    "name": "ipython",
    "version": 3
   },
   "file_extension": ".py",
   "mimetype": "text/x-python",
   "name": "python",
   "nbconvert_exporter": "python",
   "pygments_lexer": "ipython3",
   "version": "3.13.3"
  }
 },
 "nbformat": 4,
 "nbformat_minor": 4
}
